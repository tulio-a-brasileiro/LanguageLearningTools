{
  "nbformat": 4,
  "nbformat_minor": 0,
  "metadata": {
    "colab": {
      "provenance": [],
      "authorship_tag": "ABX9TyNdXWhasMJG9qiJPDuu7h1t",
      "include_colab_link": true
    },
    "kernelspec": {
      "name": "python3",
      "display_name": "Python 3"
    },
    "language_info": {
      "name": "python"
    }
  },
  "cells": [
    {
      "cell_type": "markdown",
      "metadata": {
        "id": "view-in-github",
        "colab_type": "text"
      },
      "source": [
        "<a href=\"https://colab.research.google.com/github/tulio-a-brasileiro/LanguageLearningTools/blob/main/SubtitleConverter_(OpenSource)_XML_to_TXT_.ipynb\" target=\"_parent\"><img src=\"https://colab.research.google.com/assets/colab-badge.svg\" alt=\"Open In Colab\"/></a>"
      ]
    },
    {
      "cell_type": "markdown",
      "source": [
        "Subtitle XML to Text Converter\n",
        "\n",
        "This script processes XML subtitle files and converts them into a clean text format. It performs the following steps:\n",
        "\n",
        "1. Converts the XML subtitle file to a basic text file, extracting all text content.\n",
        "2. Processes the text file to join fragmented sentences, ensuring proper sentence structure.\n",
        "3. Removes any content enclosed in square brackets (typically used for sound effects or speaker identification).\n",
        "\n",
        "The script takes an input XML file and produces a final text file with clean, readable subtitles.\n",
        "It uses temporary files during the process, which are automatically deleted upon completion.\n",
        "\n",
        "Usage:\n",
        "Set the 'xml_file' variable to the path of your input XML subtitle file.\n",
        "Set the 'final_txt_file' variable to the desired path for your output text file.\n",
        "Run the script to generate the processed subtitle text file.\n",
        "\n",
        "Note: This script is designed to work with specific XML subtitle formats and may require adjustments for different formats."
      ],
      "metadata": {
        "id": "hmyLVFYNJr4c"
      }
    },
    {
      "cell_type": "code",
      "source": [
        "import pandas as pd\n",
        "from google.colab import drive\n",
        "drive.mount('/content/drive')"
      ],
      "metadata": {
        "colab": {
          "base_uri": "https://localhost:8080/"
        },
        "id": "BCoVeNG48SeZ",
        "outputId": "58176c33-7920-4be8-e46b-cef5c0753acc"
      },
      "execution_count": null,
      "outputs": [
        {
          "output_type": "stream",
          "name": "stdout",
          "text": [
            "Mounted at /content/drive\n"
          ]
        }
      ]
    },
    {
      "cell_type": "code",
      "source": [
        "import xml.etree.ElementTree as ET\n",
        "import re\n",
        "\n",
        "def process_subtitle_xml(xml_file, final_txt_file):\n",
        "    # Step 1: Convert XML to TXT\n",
        "    def convert_subtitle_xml_to_txt(xml_file, txt_file):\n",
        "        tree = ET.parse(xml_file)\n",
        "        root = tree.getroot()\n",
        "        with open(txt_file, 'w', encoding='utf-8') as f:\n",
        "            for elem in root.iter():\n",
        "                if elem.text and elem.text.strip():\n",
        "                    f.write(elem.text.strip() + '\\n')\n",
        "                if elem.tail and elem.tail.strip():\n",
        "                    f.write(elem.tail.strip() + '\\n')\n",
        "\n",
        "    # Step 2: Process subtitle text\n",
        "    def process_subtitle_text(input_file, output_file):\n",
        "        with open(input_file, 'r', encoding='utf-8') as infile, open(output_file, 'w', encoding='utf-8') as outfile:\n",
        "            current_sentence = \"\"\n",
        "            for line in infile:\n",
        "                line = line.strip()\n",
        "                if not line:  # Skip empty lines\n",
        "                    continue\n",
        "\n",
        "                if current_sentence:\n",
        "                    current_sentence += \" \" + line\n",
        "                else:\n",
        "                    current_sentence = line\n",
        "\n",
        "                if line[-1] in '.!?':\n",
        "                    outfile.write(current_sentence + '\\n')\n",
        "                    current_sentence = \"\"\n",
        "                elif line[-1] in ',:;' or line[-1].isalpha():\n",
        "                    pass\n",
        "                else:\n",
        "                    outfile.write(current_sentence + '\\n')\n",
        "                    current_sentence = \"\"\n",
        "            if current_sentence:\n",
        "                outfile.write(current_sentence + '\\n')\n",
        "\n",
        "    # Step 3: Remove bracketed content\n",
        "    def remove_bracketed_content(input_file, output_file):\n",
        "        with open(input_file, 'r', encoding='utf-8') as infile, open(output_file, 'w', encoding='utf-8') as outfile:\n",
        "            for line in infile:\n",
        "                cleaned_line = re.sub(r'\\[.*?\\]\\s?', '', line)\n",
        "                cleaned_line = cleaned_line.strip()\n",
        "                if cleaned_line and cleaned_line != '-':\n",
        "                    outfile.write(cleaned_line + '\\n')\n",
        "\n",
        "    # Temporary file paths\n",
        "    temp_file1 = xml_file.rsplit('.', 1)[0] + '_temp1.txt'\n",
        "    temp_file2 = xml_file.rsplit('.', 1)[0] + '_temp2.txt'\n",
        "\n",
        "    # Execute the process\n",
        "    convert_subtitle_xml_to_txt(xml_file, temp_file1)\n",
        "    process_subtitle_text(temp_file1, temp_file2)\n",
        "    remove_bracketed_content(temp_file2, final_txt_file)\n",
        "\n",
        "    # Optional: Remove temporary files\n",
        "    import os\n",
        "    os.remove(temp_file1)\n",
        "    os.remove(temp_file2)\n",
        "\n",
        "# Usage\n",
        "xml_file = '/content/drive/MyDrive/Python Codes/SubtitleConverter/the nurse 01.xml'\n",
        "final_txt_file = '/content/drive/MyDrive/Python Codes/SubtitleConverter/the nurse 01_final.txt'\n",
        "process_subtitle_xml(xml_file, final_txt_file)"
      ],
      "metadata": {
        "id": "LkGvCPtII0Wv"
      },
      "execution_count": null,
      "outputs": []
    }
  ]
}
