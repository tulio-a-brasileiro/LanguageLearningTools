{
  "nbformat": 4,
  "nbformat_minor": 0,
  "metadata": {
    "colab": {
      "provenance": [],
      "authorship_tag": "ABX9TyOk5AILvSVIi18CJiwUJoBW",
      "include_colab_link": true
    },
    "kernelspec": {
      "name": "python3",
      "display_name": "Python 3"
    },
    "language_info": {
      "name": "python"
    }
  },
  "cells": [
    {
      "cell_type": "markdown",
      "metadata": {
        "id": "view-in-github",
        "colab_type": "text"
      },
      "source": [
        "<a href=\"https://colab.research.google.com/github/tulio-a-brasileiro/LanguageLearningTools/blob/main/SubtitleConverter_(OpenSource)_VTT_to_TXT.ipynb\" target=\"_parent\"><img src=\"https://colab.research.google.com/assets/colab-badge.svg\" alt=\"Open In Colab\"/></a>"
      ]
    },
    {
      "cell_type": "markdown",
      "source": [
        "VTT to TXT Subtitle Converter\n",
        "\n",
        "This script converts VTT subtitle files to plain text format. It performs the following steps:\n",
        "\n",
        "1. Reads the VTT file and extracts only the dialogue lines.\n",
        "2. Removes timecodes, VTT headers, and other formatting.\n",
        "3. Combines multi-line subtitles into single lines.\n",
        "4. Writes the cleaned text to a new TXT file.\n",
        "\n",
        "Usage:\n",
        "Set the 'vtt_file' variable to the path of your input VTT subtitle file.\n",
        "Set the 'txt_file' variable to the desired path for your output text file.\n",
        "Run the script to generate the processed subtitle text file.\n",
        "\n",
        "Note: This script assumes a standard VTT format. Some custom VTT files might require adjustments."
      ],
      "metadata": {
        "id": "0ZXm4qOIUy6e"
      }
    },
    {
      "cell_type": "code",
      "source": [
        "import pandas as pd\n",
        "from google.colab import drive\n",
        "drive.mount('/content/drive')"
      ],
      "metadata": {
        "colab": {
          "base_uri": "https://localhost:8080/"
        },
        "id": "upgO1Yt0U8JC",
        "outputId": "237a31d6-0529-410b-debe-06dc49ef59c3"
      },
      "execution_count": 1,
      "outputs": [
        {
          "output_type": "stream",
          "name": "stdout",
          "text": [
            "Drive already mounted at /content/drive; to attempt to forcibly remount, call drive.mount(\"/content/drive\", force_remount=True).\n"
          ]
        }
      ]
    },
    {
      "cell_type": "code",
      "source": [
        "import re\n",
        "\n",
        "def process_vtt_file(input_file, output_file):\n",
        "    with open(input_file, 'r', encoding='utf-8') as infile:\n",
        "        content = infile.read()\n",
        "\n",
        "    # Remove WEBVTT header if present\n",
        "    content = re.sub(r'^WEBVTT\\n', '', content, flags=re.MULTILINE)\n",
        "\n",
        "    # Split content into blocks\n",
        "    blocks = re.split(r'\\n\\n+', content)\n",
        "\n",
        "    # Remove duplicate blocks\n",
        "    unique_blocks = []\n",
        "    seen = set()\n",
        "    for block in blocks:\n",
        "        if block not in seen:\n",
        "            unique_blocks.append(block)\n",
        "            seen.add(block)\n",
        "\n",
        "    # Process unique blocks\n",
        "    processed_lines = []\n",
        "    for block in unique_blocks:\n",
        "        lines = block.split('\\n')\n",
        "        for line in lines:\n",
        "            if '-->' not in line:\n",
        "                cleaned_line = line.strip()\n",
        "                if cleaned_line and not cleaned_line.isdigit():\n",
        "                    processed_lines.append(cleaned_line)\n",
        "\n",
        "    # Join sentences\n",
        "    joined_sentences = []\n",
        "    current_sentence = \"\"\n",
        "    for line in processed_lines:\n",
        "        if current_sentence:\n",
        "            if line.startswith('..') or line[0].islower():\n",
        "                current_sentence += ' ' + line\n",
        "            else:\n",
        "                joined_sentences.append(current_sentence)\n",
        "                current_sentence = line\n",
        "        else:\n",
        "            current_sentence = line\n",
        "\n",
        "        if current_sentence.endswith('.') or current_sentence.endswith('?') or current_sentence.endswith('!'):\n",
        "            joined_sentences.append(current_sentence)\n",
        "            current_sentence = \"\"\n",
        "\n",
        "    if current_sentence:\n",
        "        joined_sentences.append(current_sentence)\n",
        "\n",
        "    # Write processed lines to output file\n",
        "    with open(output_file, 'w', encoding='utf-8') as outfile:\n",
        "        for sentence in joined_sentences:\n",
        "            outfile.write(sentence + '\\n')\n",
        "\n",
        "# Usage\n",
        "input_file = '/content/drive/MyDrive/Python Codes/SubtitleConverter/Ros na Rún - S28 E1.vtt'\n",
        "output_file = '/content/drive/MyDrive/Python Codes/SubtitleConverter/Ros na Rún - S28 E1 Final.txt'\n",
        "process_vtt_file(input_file, output_file)"
      ],
      "metadata": {
        "id": "Kw3hynkwcGTt"
      },
      "execution_count": 9,
      "outputs": []
    }
  ]
}